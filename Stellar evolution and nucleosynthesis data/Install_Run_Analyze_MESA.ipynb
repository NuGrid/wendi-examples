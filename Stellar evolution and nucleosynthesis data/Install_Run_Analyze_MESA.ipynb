{
 "cells": [
  {
   "attachments": {},
   "cell_type": "markdown",
   "metadata": {},
   "source": [
    "This notebook [lives here](https://github.com/NuGrid/wendi-examples/tree/master/Stellar%20evolution%20and%20nucleosynthesis%20data). \n",
    "\n",
    "**Start with bash kernel for installation cells, then - when indicated below - in the Kernel menu above _Change Kernel_ to Python 3 to continue with visualisation and analysis.**\n",
    "\n",
    "# MESA cyberlaboratory\n",
    "This is the [MESA astrohub application]() from the [Cyberhubs]() system. This application has all dependencies, most importantly the MESA SDK, installed that are required to install and run MESA. \n",
    "\n",
    "The only thing needed is to download, compile and run the code. The shell script `install_MESA.sh` executes the necessary steps, required in this environment. This application docker image of `mesahub` has been tested with many **MESA version** between 5329 and 15140. These can be specified in the `install_mesa.sh script` (which [lives here](https://github.com/cyberlaboratories/astrohubs/blob/master/mesahub/install_mesa.sh)). \n",
    "\n",
    "Download the latest version of this script by executing this bash code cell:"
   ]
  },
  {
   "cell_type": "code",
   "execution_count": null,
   "metadata": {},
   "outputs": [],
   "source": [
    "rm install_mesa.sh*\n",
    "wget https://raw.githubusercontent.com/cyberlaboratories/astrohubs/master/mesahub/install_mesa.sh"
   ]
  },
  {
   "cell_type": "markdown",
   "metadata": {},
   "source": [
    "The install script allows two parameters to be specied:\n",
    "\n",
    "1. installation location (defaults to /user/mesa)\n",
    "2. mesa version (defaults 10398)\n",
    "\n",
    "To change the defaults edit the `install_mesa.sh` script. \n",
    "\n",
    "**Important note:** If you are anything but a first-time user note that the default environment variable `MESA_DIR` is set to `/user/mesa/mesa` in `~/.bash_aliases`. The `install_mesa.sh` will check if a version directory is present in `/user/mesa`, if not install it and set the `/user/mesa/mesa` link to whatever version was selected. This link can instantly change if another user executes this notebook in their Hub Docker instance. Thus, other than for casual testing any serious user must reset the `MESA_DIR` environment variable to whatever their actual version is, e.g.\n",
    "```Shell\n",
    "export MESA_DIR=/user/mesa/mesa/mesa_10398\n",
    "```"
   ]
  },
  {
   "cell_type": "code",
   "execution_count": null,
   "metadata": {},
   "outputs": [],
   "source": [
    "# inspect script\n",
    "head -n 22 install_mesa.sh"
   ]
  },
  {
   "cell_type": "markdown",
   "metadata": {},
   "source": [
    "Execute the installation script. It will only install if there is no version already installed. This may take quite a bit of time, maybe 20 minutes."
   ]
  },
  {
   "cell_type": "code",
   "execution_count": null,
   "metadata": {},
   "outputs": [],
   "source": [
    "chmod u+x ./install_mesa.sh\n",
    "./install_mesa.sh"
   ]
  },
  {
   "cell_type": "markdown",
   "metadata": {},
   "source": [
    "Select a test problem to do:"
   ]
  },
  {
   "cell_type": "code",
   "execution_count": null,
   "metadata": {},
   "outputs": [],
   "source": [
    "cd /user/mesa/mesa/star/test_suite/7M_prems_to_AGB"
   ]
  },
  {
   "cell_type": "markdown",
   "metadata": {},
   "source": [
    "Compile local example:"
   ]
  },
  {
   "cell_type": "code",
   "execution_count": null,
   "metadata": {},
   "outputs": [],
   "source": [
    "./mk"
   ]
  },
  {
   "cell_type": "markdown",
   "metadata": {},
   "source": [
    "Run:"
   ]
  },
  {
   "cell_type": "code",
   "execution_count": null,
   "metadata": {},
   "outputs": [],
   "source": [
    "./rn"
   ]
  },
  {
   "cell_type": "markdown",
   "metadata": {},
   "source": [
    "**At this point change the kernel to Python 3 and continue for analysis and plotting of data.**"
   ]
  },
  {
   "cell_type": "code",
   "execution_count": null,
   "metadata": {},
   "outputs": [],
   "source": [
    "%pylab ipympl"
   ]
  },
  {
   "cell_type": "code",
   "execution_count": null,
   "metadata": {},
   "outputs": [],
   "source": [
    "data_dir='/user/mesa/mesa/star/test_suite/7M_prems_to_AGB/LOGS'\n",
    "from nugridpy import mesa as ms"
   ]
  },
  {
   "cell_type": "markdown",
   "metadata": {},
   "source": [
    "Check [NuGridPy page](https://nugrid.github.io/NuGridPy) for documentation of the [mesa module](https://nugrid.github.io/NuGridPy/_autosummary/nugridpy.mesa.html). Also, consult a [NuGrid example notebook](https://github.com/NuGrid/wendi-examples/blob/master/Stellar%20evolution%20and%20nucleosynthesis%20data/Star_explore.ipynb)."
   ]
  },
  {
   "cell_type": "code",
   "execution_count": null,
   "metadata": {},
   "outputs": [],
   "source": [
    "star = ms.star_log(data_dir)"
   ]
  },
  {
   "cell_type": "code",
   "execution_count": null,
   "metadata": {},
   "outputs": [],
   "source": [
    "ifig=1;close(ifig);figure(ifig)\n",
    "star.hrd_new()"
   ]
  },
  {
   "cell_type": "code",
   "execution_count": null,
   "metadata": {},
   "outputs": [],
   "source": [
    "ifig=2;close(ifig);figure(ifig)\n",
    "star.kip_cont(ifig=2)"
   ]
  }
 ],
 "metadata": {
  "kernelspec": {
   "display_name": "Bash",
   "language": "bash",
   "name": "bash"
  },
  "language_info": {
   "codemirror_mode": "shell",
   "file_extension": ".sh",
   "mimetype": "text/x-sh",
   "name": "bash"
  }
 },
 "nbformat": 4,
 "nbformat_minor": 4
}
