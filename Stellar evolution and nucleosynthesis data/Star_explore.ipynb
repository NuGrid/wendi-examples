{
 "cells": [
  {
   "cell_type": "markdown",
   "metadata": {},
   "source": [
    "# Explore a NuGrid star model in iPython notebook\n",
    "## Quickstart\n",
    "Execute the following three cells to make a Kippenhahn diagram of the $25M_\\odot$ template case  like Fig. 2 in Davis A, Jones S, Herwig F. 2018. MNRAS. 484(3):3921–34."
   ]
  },
  {
   "cell_type": "code",
   "execution_count": null,
   "metadata": {},
   "outputs": [],
   "source": [
    "%pylab ipympl\n",
    "from nugridpy import mesa as ms\n",
    "data_dir  = '/data/ASDR/CSA/Stellar_models/CBM_M25/template/LOGS'"
   ]
  },
  {
   "cell_type": "code",
   "execution_count": null,
   "metadata": {},
   "outputs": [],
   "source": [
    "s24_templ = ms.star_log(data_dir)"
   ]
  },
  {
   "cell_type": "code",
   "execution_count": null,
   "metadata": {},
   "outputs": [],
   "source": [
    "close(1)\n",
    "s24_templ.kip_cont(ifig=1,ixaxis='log_time_left',fsize=12,xlims=[6.9,-3],ylims=[0,10],xres=3000,yres=3000)"
   ]
  },
  {
   "cell_type": "markdown",
   "metadata": {},
   "source": [
    "## How ipython notebooks work\n",
    "\n",
    "If you have never used an ipython notebook, then here are the few basic rules you need to know:\n",
    "\n",
    "* each cell is a block of code or comments (in markdown, see pull-down menu above)\n",
    "* in each cell you can edit code, several lines using the `Return` key to create a newline\n",
    "* once you are happy with a block of code use the _play_ button above, or just hit `Shift`-`Return` to execute the block of code\n",
    "* in this notebook you use the [NuGridPy tools](http://nugridpy.phys.uvic.ca) to analyze data, [latest version on Github](https://github.com/NuGrid/NuGridPy)\n",
    "\n",
    "## Analyze NuGrid data\n",
    "\n",
    "### Initialize session"
   ]
  },
  {
   "cell_type": "code",
   "execution_count": null,
   "metadata": {},
   "outputs": [],
   "source": [
    "%pylab ipympl\n",
    "from nugridpy import mesa as ms\n",
    "from nugridpy import nugridse as mp\n",
    "\n",
    "# default data location (try mirror if default\n",
    "# is not available)\n",
    "data_dir=\"/data/ASDR/NuGrid\"  \n",
    "\n",
    "# mirror NuGrid data location - uncomment both of the following lines\n",
    "# ![ ! -h /user/data ] && ln -s /data/nugrid_data /user/data\n",
    "# data_dir = '/user'\n",
    "\n",
    "ms.set_nugrid_path(data_dir)\n",
    "mp.set_nugrid_path(data_dir)"
   ]
  },
  {
   "cell_type": "markdown",
   "metadata": {},
   "source": [
    "### The MESA stellar evolution model\n",
    "\n",
    "By default MESA is putting out two types of data. History data provides the time evolution of scalar quantities, one per time step. This data can be accessed with the `mesa.star_log` (or `mesa.history_data` which is the same) class.\n",
    "\n",
    "MESA also outputs profile data at select time steps. Profiles are available via the `mesa_profile` class.\n",
    "\n",
    "#### History data\n",
    "Initialise the 2 solar-mass Z=0.02 MESA stellar evolution model from set1.2 using the seeker method:"
   ]
  },
  {
   "cell_type": "code",
   "execution_count": null,
   "metadata": {},
   "outputs": [],
   "source": [
    "s=ms.star_log(mass=2,Z=0.02)   # or ms.history_data which is just an alias"
   ]
  },
  {
   "cell_type": "markdown",
   "metadata": {},
   "source": [
    "Let's now see what the model looks like by making some Kippenhahn diagrams"
   ]
  },
  {
   "cell_type": "code",
   "execution_count": null,
   "metadata": {},
   "outputs": [],
   "source": [
    "ifig=111;close(ifig);figure(ifig)\n",
    "s.kippenhahn_CO(111,'model')"
   ]
  },
  {
   "cell_type": "markdown",
   "metadata": {},
   "source": [
    "What's happening at the centre of the star? ..."
   ]
  },
  {
   "cell_type": "code",
   "execution_count": null,
   "metadata": {},
   "outputs": [],
   "source": [
    "ifig=101;close(ifig);figure(ifig)\n",
    "s.tcrhoc()\n",
    "axis([0,7,7,8.5])"
   ]
  },
  {
   "cell_type": "markdown",
   "metadata": {},
   "source": [
    "... and at the surface?"
   ]
  },
  {
   "cell_type": "code",
   "execution_count": null,
   "metadata": {},
   "outputs": [],
   "source": [
    "ifig=102;close(ifig);figure(ifig)\n",
    "s.hrd_new()\n",
    "legend(loc='lower right').draw_frame(False)"
   ]
  },
  {
   "cell_type": "code",
   "execution_count": null,
   "metadata": {},
   "outputs": [],
   "source": [
    "ifig=107;close(ifig);figure(ifig)\n",
    "s.kip_cont(ifig=ifig, boundaries=True,engenlevels=[1e2,1e6,1e12])"
   ]
  },
  {
   "cell_type": "code",
   "execution_count": null,
   "metadata": {},
   "outputs": [],
   "source": [
    "#s.kip_cont?"
   ]
  },
  {
   "cell_type": "markdown",
   "metadata": {},
   "source": [
    "#### MESA profile files\n",
    "The `mesa.mesa_profile` class provides access to the available profile data. We can again use the seeker method to just find the righ model by initial mass and metallicity. An additional argument `num=` specifies the model number. This behaviour can be changed, see the doc string for details. Profiles are not available for all models, and the method will report which nearby model it has found."
   ]
  },
  {
   "cell_type": "code",
   "execution_count": null,
   "metadata": {},
   "outputs": [],
   "source": [
    "prof=ms.mesa_profile(mass=2,Z=0.02,num=4500)"
   ]
  },
  {
   "cell_type": "code",
   "execution_count": null,
   "metadata": {},
   "outputs": [],
   "source": [
    "ifig=108;close(ifig);figure(ifig)\n",
    "prof.plot('mass','c12',shape='-')"
   ]
  },
  {
   "cell_type": "code",
   "execution_count": null,
   "metadata": {},
   "outputs": [],
   "source": [
    "# available columns:\n",
    "prof.cols"
   ]
  },
  {
   "cell_type": "code",
   "execution_count": null,
   "metadata": {},
   "outputs": [],
   "source": [
    "# get individual columns\n",
    "prof.get('logT')"
   ]
  },
  {
   "cell_type": "code",
   "execution_count": null,
   "metadata": {},
   "outputs": [],
   "source": [
    "# get all header attributes\n",
    "prof.header_attr"
   ]
  },
  {
   "cell_type": "code",
   "execution_count": null,
   "metadata": {},
   "outputs": [],
   "source": [
    "# This nice abundance panel plot needs some dependency fixing inside NuGridPy :-(\n",
    "# ms.abu_profiles(prof) "
   ]
  },
  {
   "cell_type": "markdown",
   "metadata": {},
   "source": [
    "Now that we have an overview of the stellar evolution of this $2M_\\odot$ star let's have a closer look at the nucleosynthesis.\n",
    "\n",
    "### The NuGrid `mppnp` post-processing data\n",
    "The NuGrid `mppnp` code would post-process detailed MESA hdf5 output. This post-processing data is available via the NuGridPy `nugridse` class. \n",
    "\n",
    "Initialise the 2 solar-mass Z=0.02 NuGrid nucleosynthesis data from set1.2 using the seeker method:"
   ]
  },
  {
   "cell_type": "code",
   "execution_count": null,
   "metadata": {},
   "outputs": [],
   "source": [
    "pt=mp.se(mass=2,Z=0.02)"
   ]
  },
  {
   "cell_type": "markdown",
   "metadata": {},
   "source": [
    "#### What quantities are available in this data type, and what are the units?\n",
    "Each of the _se_ file sets (in fact each of the dozens of hdf5 files that make up the data set for one mass/metallicty combination, or stellar evolution track) has three types of data contained in them:\n",
    "\n",
    "data type access | content \n",
    "----------------|---------\n",
    " `pt.se.hattrs` |  a header section that holds the _header attributes_, including units in the form of factors so that if applied with the quantities the result is in cgs units \n",
    "`pt.se.cattrs` | for each cycle (or time step) the _cycle attributes_ are a number of scalar global quantities, such as total mass or star age\n",
    "`pt.se.dcols` | again, for each time step these are the vector quantities available, i.e. the data table columns; one of the data columns, _iso_massf_ is in fact a matrix where the matrix columns are different species, i.e. a radial vector of species vectors"
   ]
  },
  {
   "cell_type": "code",
   "execution_count": null,
   "metadata": {},
   "outputs": [],
   "source": [
    "pt.se.hattrs"
   ]
  },
  {
   "cell_type": "code",
   "execution_count": null,
   "metadata": {},
   "outputs": [],
   "source": [
    "pt.se.cattrs"
   ]
  },
  {
   "cell_type": "code",
   "execution_count": null,
   "metadata": {},
   "outputs": [],
   "source": [
    "pt.se.dcols"
   ]
  },
  {
   "cell_type": "markdown",
   "metadata": {},
   "source": [
    "We can use the `get` method to pull any of the data in\n",
    "\n",
    "#### Example\n",
    "What is the unit of the temperature?"
   ]
  },
  {
   "cell_type": "code",
   "execution_count": null,
   "metadata": {},
   "outputs": [],
   "source": [
    "pt.get('temperature_unit')/1.e9"
   ]
  },
  {
   "cell_type": "code",
   "execution_count": null,
   "metadata": {},
   "outputs": [],
   "source": [
    "ifig=122;close(ifig);figure(ifig)\n",
    "pt.plot('mass','temperature',fname=1000,shape=':')\n",
    "ylabel('$T / 10^9 \\mathrm{K}$')\n",
    "xlabel('$m_r/M_\\odot$')"
   ]
  },
  {
   "cell_type": "markdown",
   "metadata": {},
   "source": [
    "#### Abundance profiles \n",
    "\n",
    "##### A number of isotopes in the H shell \n",
    "In the stellar evolution analysis we found that a H-burning shell inbetween thermal pulses could be found at cycle 18000. Let's plot a few isotopes that are being created or destroyed in this H-burning shell:"
   ]
  },
  {
   "cell_type": "code",
   "execution_count": null,
   "metadata": {},
   "outputs": [],
   "source": [
    "# pt.abu_profile?"
   ]
  },
  {
   "cell_type": "markdown",
   "metadata": {},
   "source": [
    "and the nuclides that are being created or destroyed in this part of the star:"
   ]
  },
  {
   "cell_type": "code",
   "execution_count": null,
   "metadata": {},
   "outputs": [],
   "source": [
    "species=['H-1','He-4','C-12','C-13','N-14','O-16']\n",
    "ifig=108;close(ifig);figure(ifig)\n",
    "pt.abu_profile(isos=species, ifig=ifig, fname=18000, logy=True)\n",
    "ylim(-7,0)\n",
    "xlim(0.552,0.556)"
   ]
  },
  {
   "cell_type": "markdown",
   "metadata": {},
   "source": [
    "##### Abundance profile at the time of formation of the partial-mix zone"
   ]
  },
  {
   "cell_type": "code",
   "execution_count": null,
   "metadata": {},
   "outputs": [],
   "source": [
    "species=['H-1','C-12','C-13','N-14','Fe-56','Sr-86','Ba-138','Pb-206']"
   ]
  },
  {
   "cell_type": "code",
   "execution_count": null,
   "metadata": {},
   "outputs": [],
   "source": [
    "ifig=121;close(ifig);figure(ifig)\n",
    "pt.abu_profile(isos=species, ifig=ifig, fname=45500, logy=True, colourblind=True)\n",
    "ylim(-9,0)\n",
    "xlim(0.603,0.6033)\n",
    "title(\"Formation of the $^\\mathsf{13}\\mathsf{C}$ pocket: the partial H-$^\\mathsf{12}\\mathsf{C}$ zone\")"
   ]
  },
  {
   "cell_type": "code",
   "execution_count": null,
   "metadata": {},
   "outputs": [],
   "source": [
    "ifig=124;close(ifig);figure(ifig)\n",
    "pt.abu_profile(isos=species, ifig=ifig, fname=47222, logy=True, colourblind=False)\n",
    "ylim(-9,0)\n",
    "xlim(0.60312,0.6032)\n",
    "title(\"Final s-process formed in $^\\mathsf{13}\\mathsf{C}$ pocket: end of intershell period\")"
   ]
  },
  {
   "cell_type": "markdown",
   "metadata": {},
   "source": [
    "#### Isotopic abundance distribution in the C13 pocket"
   ]
  },
  {
   "cell_type": "code",
   "execution_count": null,
   "metadata": {},
   "outputs": [],
   "source": [
    "# help\n",
    "#pt.iso_abund?"
   ]
  },
  {
   "cell_type": "code",
   "execution_count": null,
   "metadata": {},
   "outputs": [],
   "source": [
    "ifig=123;close(ifig);figure(ifig)\n",
    "pt.iso_abund(47221, stable=True,amass_range=[50,210], mass_range=[0.60312,0.6032], ylim=[-9, -2])\n"
   ]
  },
  {
   "cell_type": "markdown",
   "metadata": {},
   "source": [
    "#### Abundance chart plot\n",
    "We can also see the impact on the isotopic abundance chart for that part of the star:"
   ]
  },
  {
   "cell_type": "code",
   "execution_count": null,
   "metadata": {},
   "outputs": [],
   "source": [
    "# pt.abu_chart?"
   ]
  },
  {
   "cell_type": "code",
   "execution_count": null,
   "metadata": {},
   "outputs": [],
   "source": [
    "#ifig=1233;close(ifig);figure(ifig)\n",
    "pt.abu_chart(47220,mass_range=[0.60312,0.6032], plotaxis=[0, 80, 0, 60],\\\n",
    "             ilabel=False,imlabel=False,boxstable=False)\n"
   ]
  },
  {
   "cell_type": "markdown",
   "metadata": {},
   "source": [
    "#### Extract trajectory for post-processing\n",
    "You can extract the trajectory and initial abundances from this model at the key mass coordinate for use in a 1-zone PPN simulation in order to study, for example, the impact of a new rate"
   ]
  },
  {
   "cell_type": "code",
   "execution_count": null,
   "metadata": {},
   "outputs": [],
   "source": [
    "pt.abund_at_masscoordinate(26100,0.57685,online=True)"
   ]
  },
  {
   "cell_type": "code",
   "execution_count": null,
   "metadata": {},
   "outputs": [],
   "source": []
  },
  {
   "cell_type": "code",
   "execution_count": null,
   "metadata": {},
   "outputs": [],
   "source": []
  }
 ],
 "metadata": {
  "kernelspec": {
   "display_name": "Python 3",
   "language": "python",
   "name": "python3"
  },
  "language_info": {
   "codemirror_mode": {
    "name": "ipython",
    "version": 3
   },
   "file_extension": ".py",
   "mimetype": "text/x-python",
   "name": "python",
   "nbconvert_exporter": "python",
   "pygments_lexer": "ipython3",
   "version": "3.6.8"
  }
 },
 "nbformat": 4,
 "nbformat_minor": 4
}
