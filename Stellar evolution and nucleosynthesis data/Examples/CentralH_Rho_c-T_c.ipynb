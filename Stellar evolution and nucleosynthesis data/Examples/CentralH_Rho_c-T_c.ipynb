{
 "cells": [
  {
   "cell_type": "markdown",
   "metadata": {},
   "source": [
    "# Central density and temperature evolution and H-core burning values\n",
    "For more examples see the `Star_explore.ipynb` notebook in the home directory.\n",
    "\n",
    "This notebook extracts the central density and temperature as a function of time for all available masses in the NuGrid data set. \n",
    "\n",
    "NuGrid data:\n",
    "1. Pignatari, M. et al. NUGRID STELLAR DATA SET. I. STELLAR YIELDS FROM H TO BI FOR STARS WITH METALLICITIES Z = 0.02 and Z = 0.01. Astrophysical J Suppl Ser 225, 24 (2016).\n",
    "2. Ritter, C. et al. NuGrid stellar data set – II. Stellar yields from H to Bi for stellar models with MZAMS = 1–25 M⊙ and Z = 0.0001–0.02. Mon Not R Astron Soc 480, 538–571 (2018)."
   ]
  },
  {
   "cell_type": "code",
   "execution_count": 1,
   "metadata": {},
   "outputs": [
    {
     "name": "stdout",
     "output_type": "stream",
     "text": [
      "Populating the interactive namespace from numpy and matplotlib\n"
     ]
    }
   ],
   "source": [
    "%pylab ipympl\n",
    "from nugridpy import mesa as ms\n",
    "from nugridpy import nugridse as mp\n",
    "\n",
    "data_dir=\"/data/ASDR/NuGrid\"  \n",
    "ms.set_nugrid_path(data_dir)\n",
    "mp.set_nugrid_path(data_dir)"
   ]
  },
  {
   "cell_type": "markdown",
   "metadata": {},
   "source": [
    "### The MESA stellar evolution models\n",
    "\n",
    "By default MESA is putting out two types of data. History data provides the time evolution of scalar quantities, one per time step. This data can be accessed with the `mesa.star_log` (or `mesa.history_data` which is the same) class.\n",
    "\n",
    "MESA also outputs profile data at select time steps. Profiles are available via the `mesa_profile` class.\n",
    "\n",
    "### Find central density and temperuate for one stellar evolution model\n",
    "Initialise the 2 solar-mass Z=0.02 MESA stellar evolution model from set1.2 using the seeker method:"
   ]
  },
  {
   "cell_type": "code",
   "execution_count": 2,
   "metadata": {},
   "outputs": [
    {
     "name": "stdout",
     "output_type": "stream",
     "text": [
      "nugrid_path = /data/ASDR/NuGrid\n",
      "closest set is set1.2 (Z = 0.02)\n",
      "closest mass is 2.0\n",
      "Using old star.logsa file ...\n",
      " reading ...100% \n",
      "\n"
     ]
    }
   ],
   "source": [
    "s=ms.star_log(mass=2,Z=0.02)   # or ms.history_data which is just an alias"
   ]
  },
  {
   "cell_type": "code",
   "execution_count": 3,
   "metadata": {},
   "outputs": [],
   "source": [
    "# uncomment this to see what scalar quantities are available for each time step\n",
    "# s.cols.keys()"
   ]
  },
  {
   "cell_type": "code",
   "execution_count": 4,
   "metadata": {},
   "outputs": [
    {
     "data": {
      "text/plain": [
       "array([7.06443435e-01, 7.06443435e-01, 7.06443435e-01, ...,\n",
       "       2.05774094e-98, 2.05774094e-98, 2.05774094e-98])"
      ]
     },
     "execution_count": 4,
     "metadata": {},
     "output_type": "execute_result"
    }
   ],
   "source": [
    "s.get('center_h1')  # get time evolution array of central H"
   ]
  },
  {
   "cell_type": "code",
   "execution_count": 5,
   "metadata": {},
   "outputs": [],
   "source": [
    " # find index where center H abundances becomes < 0.6\n",
    "ind_Heq0p6 = where(s.get('center_h1')<0.6)[0][0]"
   ]
  },
  {
   "cell_type": "code",
   "execution_count": 6,
   "metadata": {},
   "outputs": [
    {
     "name": "stdout",
     "output_type": "stream",
     "text": [
      "1.8267882916534048 7.339102395792292\n"
     ]
    }
   ],
   "source": [
    " # central rho and T at that time\n",
    "log_rhoc, log_Tc = [s.get(thing)[ind_Heq0p6] for thing in ['log_center_Rho','log_center_T']]\n",
    "print(log_rhoc, log_Tc)"
   ]
  },
  {
   "cell_type": "markdown",
   "metadata": {},
   "source": [
    "### Now extract $rho_\\mathrm{c}$ and $T_\\mathrm{c}$ for a bunch of masses\n",
    "*  extract time series for each mass and plot as evolution track, and\n",
    "*  specifically when central H abundance has reached mass fraction of 0.6 and add to plot"
   ]
  },
  {
   "cell_type": "code",
   "execution_count": 7,
   "metadata": {},
   "outputs": [
    {
     "data": {
      "text/plain": [
       "\u001b[0;31mSignature:\u001b[0m\n",
       "\u001b[0ms\u001b[0m\u001b[0;34m.\u001b[0m\u001b[0mtcrhoc\u001b[0m\u001b[0;34m(\u001b[0m\u001b[0;34m\u001b[0m\n",
       "\u001b[0;34m\u001b[0m    \u001b[0mifig\u001b[0m\u001b[0;34m=\u001b[0m\u001b[0;32mNone\u001b[0m\u001b[0;34m,\u001b[0m\u001b[0;34m\u001b[0m\n",
       "\u001b[0;34m\u001b[0m    \u001b[0mlims\u001b[0m\u001b[0;34m=\u001b[0m\u001b[0;34m[\u001b[0m\u001b[0;36m3.0\u001b[0m\u001b[0;34m,\u001b[0m \u001b[0;36m10.0\u001b[0m\u001b[0;34m,\u001b[0m \u001b[0;36m8.0\u001b[0m\u001b[0;34m,\u001b[0m \u001b[0;36m10.0\u001b[0m\u001b[0;34m]\u001b[0m\u001b[0;34m,\u001b[0m\u001b[0;34m\u001b[0m\n",
       "\u001b[0;34m\u001b[0m    \u001b[0mlabel\u001b[0m\u001b[0;34m=\u001b[0m\u001b[0;32mNone\u001b[0m\u001b[0;34m,\u001b[0m\u001b[0;34m\u001b[0m\n",
       "\u001b[0;34m\u001b[0m    \u001b[0mcolour\u001b[0m\u001b[0;34m=\u001b[0m\u001b[0;32mNone\u001b[0m\u001b[0;34m,\u001b[0m\u001b[0;34m\u001b[0m\n",
       "\u001b[0;34m\u001b[0m    \u001b[0mdashes\u001b[0m\u001b[0;34m=\u001b[0m\u001b[0;32mNone\u001b[0m\u001b[0;34m,\u001b[0m\u001b[0;34m\u001b[0m\n",
       "\u001b[0;34m\u001b[0m\u001b[0;34m)\u001b[0m\u001b[0;34m\u001b[0m\u001b[0;34m\u001b[0m\u001b[0m\n",
       "\u001b[0;31mDocstring:\u001b[0m\n",
       "Central temperature again central density plot\n",
       "\n",
       "Parameters\n",
       "----------\n",
       "ifig : integer or string\n",
       "    Figure label, if None the current figure is used\n",
       "    The default value is None.\n",
       "lims : list [x_lower, x_upper, y_lower, y_upper]\n",
       "label : string\n",
       "    Label for the model\n",
       "    The default value is None\n",
       "colour : string\n",
       "    The colour of the line\n",
       "    The default value is None\n",
       "dashes : list, optional\n",
       "    Custom dashing style. If None, ignore.\n",
       "    The default is None.\n",
       "\u001b[0;31mFile:\u001b[0m      /usr/local/lib/python3.6/dist-packages/nugridpy/mesa.py\n",
       "\u001b[0;31mType:\u001b[0m      method\n"
      ]
     },
     "metadata": {},
     "output_type": "display_data"
    }
   ],
   "source": [
    "# among the many methods in NuGridPy is the method to plot central rho and R\n",
    "# check the doc string\n",
    "s.tcrhoc?"
   ]
  },
  {
   "cell_type": "code",
   "execution_count": 8,
   "metadata": {},
   "outputs": [
    {
     "name": "stdout",
     "output_type": "stream",
     "text": [
      "nugrid_path = /data/ASDR/NuGrid\n",
      "closest set is set1.2 (Z = 0.02)\n",
      "closest mass is 1.65\n",
      "Using old star.logsa file ...\n",
      " reading ...100% \n",
      "\n",
      "nugrid_path = /data/ASDR/NuGrid\n",
      "closest set is set1.2 (Z = 0.02)\n",
      "closest mass is 2.0\n",
      "Using old star.logsa file ...\n",
      " reading ...100% \n",
      "\n",
      "nugrid_path = /data/ASDR/NuGrid\n",
      "closest set is set1.2 (Z = 0.02)\n",
      "closest mass is 3.0\n",
      "Using old star.logsa file ...\n",
      " reading ...100% \n",
      "\n",
      "nugrid_path = /data/ASDR/NuGrid\n",
      "closest set is set1.2 (Z = 0.02)\n",
      "closest mass is 4.0\n",
      "Using old star.logsa file ...\n",
      " reading ...100% \n",
      "\n",
      "nugrid_path = /data/ASDR/NuGrid\n",
      "closest set is set1.2 (Z = 0.02)\n",
      "closest mass is 5.0\n",
      "Using old star.logsa file ...\n",
      " reading ...100% \n",
      "\n",
      "nugrid_path = /data/ASDR/NuGrid\n",
      "closest set is set1.2 (Z = 0.02)\n",
      "closest mass is 6.0\n",
      "Using old star.logsa file ...\n",
      " reading ...100% \n",
      "\n",
      "nugrid_path = /data/ASDR/NuGrid\n",
      "closest set is set1.2 (Z = 0.02)\n",
      "closest mass is 7.0\n",
      "Using old star.logsa file ...\n",
      " reading ...100% \n",
      "\n",
      "nugrid_path = /data/ASDR/NuGrid\n",
      "closest set is set1.2 (Z = 0.02)\n",
      "closest mass is 12.0\n",
      "Using old star.logsa file ...\n",
      " reading ...100% \n",
      "\n",
      "nugrid_path = /data/ASDR/NuGrid\n",
      "closest set is set1.2 (Z = 0.02)\n",
      "closest mass is 15.0\n",
      "Using old star.logsa file ...\n",
      " reading ...100% \n",
      "\n",
      "nugrid_path = /data/ASDR/NuGrid\n",
      "closest set is set1.2 (Z = 0.02)\n",
      "closest mass is 20.0\n",
      "Using old star.logsa file ...\n",
      " reading ...100% \n",
      "\n",
      "nugrid_path = /data/ASDR/NuGrid\n",
      "closest set is set1.2 (Z = 0.02)\n",
      "closest mass is 25.0\n",
      "Using old star.logsa file ...\n",
      " reading ...100% \n",
      "\n"
     ]
    }
   ],
   "source": [
    "# read and save instances for all masses in list\n",
    "masses = [1.65,2,3,4,5,6,7,12,15,20,25]\n",
    "sdata = {}     # dictionary holds each instance, mass is the dictionary key\n",
    "for mass in masses: \n",
    "    sdata[mass] = ms.star_log(mass=mass,Z=0.02)"
   ]
  },
  {
   "cell_type": "code",
   "execution_count": 9,
   "metadata": {},
   "outputs": [],
   "source": [
    "# set some line styles and color settings\n",
    "lll= 2*['-', '--', ':', '-.']\n",
    "import seaborn as sns\n",
    "cbs = sns.color_palette('colorblind')\n",
    "CB_color_cycle = cbs + cbs\n",
    "rc('axes', prop_cycle=(cycler('color', CB_color_cycle[0:8]) +cycler('linestyle',lll)))\n",
    "from nugridpy import utils as ut"
   ]
  },
  {
   "cell_type": "code",
   "execution_count": 10,
   "metadata": {},
   "outputs": [
    {
     "data": {
      "application/vnd.jupyter.widget-view+json": {
       "model_id": "f8369b3183ad4a5d9aca91f063a02a13",
       "version_major": 2,
       "version_minor": 0
      },
      "text/plain": [
       "Canvas(toolbar=Toolbar(toolitems=[('Home', 'Reset original view', 'home', 'home'), ('Back', 'Back to previous …"
      ]
     },
     "metadata": {},
     "output_type": "display_data"
    }
   ],
   "source": [
    "# make a plot of the center rho and T evolution for each mass\n",
    "# and add markers where the central H abundance has decreased to 0.6\n",
    "ifig=101;close(ifig);figure(ifig,figsize=(6,4))\n",
    "for i,mass in enumerate(masses):\n",
    "    sdata[mass].tcrhoc(lims=[0.2, 8, 7.0, 9])\n",
    "    ind_Heq0p6 = where(sdata[mass].get('center_h1')<0.6)[0][0]\n",
    "    # save tuple of 'log_center_Rho','log_center_T' for mass\n",
    "    rhoc,Tc = [sdata[mass].get(thing)[ind_Heq0p6] for thing in ['log_center_Rho','log_center_T']] \n",
    "    plot(rhoc,Tc,ut.linestylecb(3*i)[1],color=ut.linestylecb(i)[2],label=str(mass))\n",
    "legend(loc=4)\n",
    "xlabel(r\"$\\log \\rho_\\mathrm{c}$ \");ylabel(r\"$\\log T_\\mathrm{c}$ \")\n",
    "savefig('rhoxTc.pdf')"
   ]
  }
 ],
 "metadata": {
  "kernelspec": {
   "display_name": "Python 3",
   "language": "python",
   "name": "python3"
  },
  "language_info": {
   "codemirror_mode": {
    "name": "ipython",
    "version": 3
   },
   "file_extension": ".py",
   "mimetype": "text/x-python",
   "name": "python",
   "nbconvert_exporter": "python",
   "pygments_lexer": "ipython3",
   "version": "3.6.8"
  }
 },
 "nbformat": 4,
 "nbformat_minor": 4
}
