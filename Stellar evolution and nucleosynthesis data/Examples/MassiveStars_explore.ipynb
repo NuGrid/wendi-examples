{
 "cells": [
  {
   "cell_type": "markdown",
   "metadata": {},
   "source": [
    "# Massive star exploration\n",
    "This notebook demonstrates the nucleosynthesis exploration of massive star models in the NuGrid data set. This notebook can be executed on the Outreach Hub of the Astrohub https://astrohub.uvic.ca.\n",
    "\n",
    "Author: Falk Herwig, 2021."
   ]
  },
  {
   "cell_type": "code",
   "execution_count": 1,
   "metadata": {},
   "outputs": [
    {
     "name": "stdout",
     "output_type": "stream",
     "text": [
      "Populating the interactive namespace from numpy and matplotlib\n"
     ]
    }
   ],
   "source": [
    "%pylab ipympl\n",
    "from nugridpy import mesa as ms\n",
    "from nugridpy import nugridse as mp\n",
    "data_dir=\"/data/ASDR/NuGrid\"  \n",
    "ms.set_nugrid_path(data_dir)\n",
    "mp.set_nugrid_path(data_dir)"
   ]
  },
  {
   "cell_type": "markdown",
   "metadata": {},
   "source": [
    "Select intial mass and metallicity:"
   ]
  },
  {
   "cell_type": "code",
   "execution_count": 65,
   "metadata": {},
   "outputs": [],
   "source": [
    "mass=15;Z=0.01;ylims=(0,6)"
   ]
  },
  {
   "cell_type": "code",
   "execution_count": 66,
   "metadata": {},
   "outputs": [
    {
     "data": {
      "application/vnd.jupyter.widget-view+json": {
       "model_id": "d103428ef1c34c2ebf170b14926b419b",
       "version_major": 2,
       "version_minor": 0
      },
      "text/plain": [
       "Canvas(toolbar=Toolbar(toolitems=[('Home', 'Reset original view', 'home', 'home'), ('Back', 'Back to previous …"
      ]
     },
     "metadata": {},
     "output_type": "display_data"
    }
   ],
   "source": [
    "%%capture --no-display\n",
    "ifig=127;close(ifig);figure(ifig,figsize=(12,7))\n",
    "s=ms.star_log(mass=mass,Z=Z)                               # comment for repeat call of this cell with same (M,Z)\n",
    "mods =(s.get('model_number')[0],s.get('model_number')[-1]) # all models, select more appropriate range:\n",
    "# mods =(2000,8000)\n",
    "s.kip_cont(ifig=ifig,modstart=mods[0],modstop=mods[1],ylims=ylims,xres=2000,yres=2000)\n",
    "title(f'M= {mass:2.0f} Z= {Z:5.4f}')\n",
    "tight_layout()"
   ]
  },
  {
   "cell_type": "markdown",
   "metadata": {},
   "source": [
    "Plot the last available cycle from the pre-supernova evolution, or some range as determined from inspecting the Kippenhahn diagram."
   ]
  },
  {
   "cell_type": "code",
   "execution_count": 67,
   "metadata": {},
   "outputs": [
    {
     "data": {
      "application/vnd.jupyter.widget-view+json": {
       "model_id": "f76cfc7b03de4994b56cb4e654df7ec8",
       "version_major": 2,
       "version_minor": 0
      },
      "text/plain": [
       "Canvas(toolbar=Toolbar(toolitems=[('Home', 'Reset original view', 'home', 'home'), ('Back', 'Back to previous …"
      ]
     },
     "metadata": {},
     "output_type": "display_data"
    }
   ],
   "source": [
    "%%capture --no-display\n",
    "pt=mp.se(mass=mass,Z=Z)  # comment for repeat call of this cell with same (M,Z)\n",
    "model=int(pt.se.cycles[-1])#; model = 8000\n",
    "species=['H-1','He-4','C-12','C-13','N-14','O-16','Ne-20','Ne-22','Al-26','Si-28','Fe-60']\n",
    "for mod in range(model,model+1,20): # detailed profiles area available every 20 models\n",
    "    ifig=128;close(ifig);figure(ifig,figsize=(12,7))\n",
    "    pt.abu_profile(isos=species, ifig=ifig, fname=mod, logy=True,colourblind=False)\n",
    "    ylim(-7,0);xlim(0,ylims[1])\n",
    "    title(f'M= {mass:2.0f} Z= {Z:5.4f}, model = {mod:4}, pre-SN');tight_layout()\n",
    "    savefig(f'M{mass:2.0f}Z{Z:5.4f}mod{mod:4}.png')\n"
   ]
  },
  {
   "cell_type": "markdown",
   "metadata": {},
   "source": [
    "Plot explosive nucleosynthesis (use `type='ppd_exp'` option):"
   ]
  },
  {
   "cell_type": "code",
   "execution_count": 68,
   "metadata": {},
   "outputs": [
    {
     "data": {
      "application/vnd.jupyter.widget-view+json": {
       "model_id": "0d40f6fbee0f4bf6b2337f2d2a81ec78",
       "version_major": 2,
       "version_minor": 0
      },
      "text/plain": [
       "Canvas(toolbar=Toolbar(toolitems=[('Home', 'Reset original view', 'home', 'home'), ('Back', 'Back to previous …"
      ]
     },
     "metadata": {},
     "output_type": "display_data"
    }
   ],
   "source": [
    "%%capture --no-display\n",
    "pt=mp.se(mass=mass,Z=Z,type='ppd_exp')  # comment for repeat call of this cell with same (M,Z)\n",
    "model=int(pt.se.cycles[-1])#; mod = 8000\n",
    "species=['H-1','He-4','C-12','C-13','N-14','O-16','Ne-20','Ne-22','Al-26','Si-28','Fe-60']\n",
    "for mod in range(model,model+1,20): # detailed profiles area available every 20 models\n",
    "    ifig=138;close(ifig);figure(ifig,figsize=(12,7))\n",
    "    pt.abu_profile(isos=species, ifig=ifig, fname=mod, logy=True,colourblind=False)\n",
    "    ylim(-7,0);xlim(0,ylims[1])\n",
    "    title(f'M= {mass:2.0f} Z= {Z:5.4f}, model = {mod:4}, SN');tight_layout()\n",
    "    savefig(f'M{mass:2.0f}Z{Z:5.4f}mod{mod:4}.png')\n"
   ]
  },
  {
   "cell_type": "markdown",
   "metadata": {},
   "source": [
    "The profile generating cells are constructed so that if a range is actually given in the `for` loop then a sequence of `.png` files will be produced. Paste the following line into a file called `movies.sh`\n",
    "```\n",
    "ffmpeg  -framerate 12   -y -f image2  -pattern_type glob -i \"$1*.png\" -preset slow -crf 18  -s 1024x1024  -c:v libx264 -b:v 12000k  -pix_fmt yuv420p  $1.mp4\n",
    "```\n",
    "Then make this shell script executable with `chmod u+x movies.sh` and make a movie out of your images. Select resulting `.mp4` file in filemanager of JupyterHub and select `Open in New Browser Tab` to play movie."
   ]
  },
  {
   "cell_type": "code",
   "execution_count": null,
   "metadata": {},
   "outputs": [],
   "source": []
  }
 ],
 "metadata": {
  "kernelspec": {
   "display_name": "Python 3",
   "language": "python",
   "name": "python3"
  },
  "language_info": {
   "codemirror_mode": {
    "name": "ipython",
    "version": 3
   },
   "file_extension": ".py",
   "mimetype": "text/x-python",
   "name": "python",
   "nbconvert_exporter": "python",
   "pygments_lexer": "ipython3",
   "version": "3.6.8"
  }
 },
 "nbformat": 4,
 "nbformat_minor": 4
}
