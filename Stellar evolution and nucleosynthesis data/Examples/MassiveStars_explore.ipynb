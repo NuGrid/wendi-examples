{
 "cells": [
  {
   "cell_type": "markdown",
   "metadata": {},
   "source": [
    "# Massive star exploration\n",
    "This notebook demonstrates the nucleosynthesis exploration of massive star models in the NuGrid data set. This notebook can be executed on the Outreach Hub of the Astrohub https://astrohub.uvic.ca.\n",
    "\n",
    "This notebook makes the following types of plots/analysis:\n",
    "* Kippenhahn diagram for given mass and metallicity\n",
    "* abundance plots for pre-SN and SN models for final or given plot\n",
    "* movies of abundance evolution for given model range and model step\n",
    "* integration of abundance taking into account individual remnant masses as a function of initial and final mass\n",
    "\n",
    "With this notebook you can explore the origin and evolution of any species in massive stars (can be adapted to use for low-mass stars as well of course), specifically radioactive species, such as $\\mathrm{^{26}Al}$ and $\\mathrm{^{60}Fe}$.\n",
    "\n",
    "Author: Falk Herwig, 2021."
   ]
  },
  {
   "cell_type": "code",
   "execution_count": null,
   "metadata": {},
   "outputs": [],
   "source": [
    "%pylab ipympl\n",
    "from nugridpy import mesa as ms\n",
    "from nugridpy import nugridse as mp\n",
    "data_dir=\"/data/ASDR/NuGrid\"  \n",
    "ms.set_nugrid_path(data_dir)\n",
    "mp.set_nugrid_path(data_dir)"
   ]
  },
  {
   "cell_type": "code",
   "execution_count": null,
   "metadata": {},
   "outputs": [],
   "source": [
    "# set cycling combination of color-blind labels, glyphs, styles\n",
    "lll= 2*['-', '--', ':', '-.']\n",
    "markers = ['X','h','<','>','s','^','d','X','p']\n",
    "random.shuffle(lll)\n",
    "CB_color_cycle = ['#4daf4a', '#a65628', '#984ea3',\n",
    "                  '#ff7f00', '#f781bf', '#377eb8',\n",
    "                  '#999999', '#e41a1c', '#dede00']\n",
    "rc('axes', prop_cycle=(cycler('color', CB_color_cycle[0:8]) + cycler('marker',markers[0:8])+cycler('linestyle',lll)))\n",
    "rc('axes', prop_cycle=(cycler('color', CB_color_cycle[0:8]) +cycler('linestyle',lll)))\n",
    "\n",
    "# SMALL_SIZE = 8\n",
    "# MEDIUM_SIZE = 10\n",
    "# BIGGER_SIZE = 12\n",
    "\n",
    "# rc('font', size=MEDIUM_SIZE)          # controls default text sizes\n",
    "# rc('axes', titlesize=SMALL_SIZE)     # fontsize of the axes title\n",
    "# rc('axes', labelsize=SMALL_SIZE)    # fontsize of the x and y labels\n",
    "# rc('xtick', labelsize=SMALL_SIZE)    # fontsize of the tick labels\n",
    "# rc('ytick', labelsize=SMALL_SIZE)    # fontsize of the tick labels\n",
    "# rc('legend', fontsize=SMALL_SIZE)    # legend fontsize\n",
    "# rc('figure', titlesize=MEDIUM_SIZE)  # fontsize of the figure title\n"
   ]
  },
  {
   "cell_type": "markdown",
   "metadata": {},
   "source": [
    "Select intial mass and metallicity:"
   ]
  },
  {
   "cell_type": "code",
   "execution_count": null,
   "metadata": {},
   "outputs": [],
   "source": [
    "mass=20;Z=0.001;ylims=(0,10)"
   ]
  },
  {
   "cell_type": "code",
   "execution_count": null,
   "metadata": {},
   "outputs": [],
   "source": [
    "%%capture --no-display\n",
    "ifig=127;close(ifig);figure(ifig,figsize=(12,7))\n",
    "s=ms.star_log(mass=mass,Z=Z)                               # comment for repeat call of this cell with same (M,Z)\n",
    "mods =(s.get('model_number')[0],s.get('model_number')[-1]) # all models, select more appropriate range:\n",
    "mods =(4000,8000)\n",
    "rc('axes', prop_cycle=(cycler('color', CB_color_cycle[0:8]) +cycler('linestyle',lll)))\n",
    "s.kip_cont(ifig=ifig,modstart=mods[0],modstop=mods[1],ylims=ylims,xres=2000,yres=2000)\n",
    "title(f'M= {mass:2.0f} Z= {Z:5.4f}'); tight_layout()"
   ]
  },
  {
   "cell_type": "markdown",
   "metadata": {},
   "source": [
    "Plot the last available cycle from the pre-supernova evolution, or some range as determined from inspecting the Kippenhahn diagram."
   ]
  },
  {
   "cell_type": "code",
   "execution_count": null,
   "metadata": {},
   "outputs": [],
   "source": [
    "%%capture --no-display\n",
    "pt=mp.se(mass=mass,Z=Z)  # comment for repeat call of this cell with same (M,Z)\n",
    "model=int(pt.se.cycles[-1]); model = 4500\n",
    "species=['H-1','He-4','C-12','C-13','N-14','O-16','Ne-20','Ne-22','Al-26','Si-28','Fe-60']\n",
    "for mod in range(model,model+0+1,20): # detailed profiles area available every 20 models\n",
    "    ifig=128;close(ifig);figure(ifig,figsize=(12,7))\n",
    "    pt.abu_profile(isos=species, ifig=ifig, fname=mod, logy=True,colourblind=False)\n",
    "    ylim(-7,0);xlim(0,10)\n",
    "    title(f'M= {mass:2.0f} Z= {Z:5.4f}, model = {mod:4}, pre-SN');tight_layout()\n",
    "    savefig(f'M{mass:2.0f}Z{Z:5.4f}mod{mod:4}.png')\n",
    "tight_layout()"
   ]
  },
  {
   "cell_type": "markdown",
   "metadata": {},
   "source": [
    "Plot explosive nucleosynthesis (use `type='ppd_exp'` option):"
   ]
  },
  {
   "cell_type": "code",
   "execution_count": null,
   "metadata": {},
   "outputs": [],
   "source": [
    "%%capture --no-display\n",
    "pt=mp.se(mass=mass,Z=Z,type='ppd_exp')  # comment for repeat call of this cell with same (M,Z)\n",
    "model=int(pt.se.cycles[-1])#; mod = 8000\n",
    "species=['H-1','He-4','C-12','C-13','N-14','O-16','Ne-20','Ne-22','Al-26','Si-28','Sc-47','Fe-60']\n",
    "for mod in range(model,model+1,20): # detailed profiles area available every 20 models\n",
    "    ifig=138;close(ifig);figure(ifig,figsize=(12,7))\n",
    "    pt.abu_profile(isos=species, ifig=ifig, fname=mod, logy=True,colourblind=False)\n",
    "    ylim(-7,0);xlim(0,10)\n",
    "    title(f'M= {mass:2.0f} Z= {Z:5.4f}, model = {mod:4}, SN');tight_layout()\n",
    "    savefig(f'M{mass:2.0f}Z{Z:5.4f}mod{mod:4}.png')\n"
   ]
  },
  {
   "cell_type": "markdown",
   "metadata": {},
   "source": [
    "The profile generating cells are constructed so that if a range is actually given in the `for` loop then a sequence of `.png` files will be produced. Paste the following line into a file called `movies.sh`\n",
    "```\n",
    "ffmpeg  -framerate 12   -y -f image2  -pattern_type glob -i \"$1*.png\" -preset slow -crf 18  -s 1024x1024  -c:v libx264 -b:v 12000k  -pix_fmt yuv420p  $1.mp4\n",
    "```\n",
    "Then make this shell script executable with `chmod u+x movies.sh` and make a movie out of your images. Select resulting `.mp4` file in filemanager of JupyterHub and select `Open in New Browser Tab` to play movie."
   ]
  },
  {
   "cell_type": "markdown",
   "metadata": {},
   "source": [
    "## Integral of all models\n",
    "Include remnent masses from Ritter+18, Tab 4."
   ]
  },
  {
   "cell_type": "code",
   "execution_count": null,
   "metadata": {},
   "outputs": [],
   "source": [
    "from scipy import integrate\n",
    "def get_isomass_sum(Z,mass,isos,remnant_mass,expl='delay'):\n",
    "    '''Return radial mass integral for each iso in isos\n",
    "    '''\n",
    "    pt=mp.se(mass=mass,Z=Z,type='ppd_exp') \n",
    "    model=int(pt.se.cycles[-1])\n",
    "    isosums = []\n",
    "    mass =  pt.get(model,'mass')\n",
    "    rmass = remnant_mass[expl][20][remnant_mass['Z'].index(Z)]\n",
    "    ind=where(mass>rmass)\n",
    "    for iso in isos:\n",
    "        iso = pt.get(model,iso)\n",
    "        isosums.append(integrate.simps(iso[ind],mass[ind]))\n",
    "    return isosums"
   ]
  },
  {
   "cell_type": "markdown",
   "metadata": {},
   "source": [
    "### Remnant masses\n",
    "According to Ritter+ 2018 (NuGrid Set 1 extension) Tab 4. \n",
    "\n",
    "![Ritter+18Tab4-remnantmasses.png](./Ritter+18Tab4-remnantmasses.png)"
   ]
  },
  {
   "cell_type": "code",
   "execution_count": null,
   "metadata": {},
   "outputs": [],
   "source": [
    "remnant_mass = {} # add more masses according to Table\n",
    "remnant_mass['delay'] = {}; remnant_mass['rapid'] = {}\n",
    "remnant_mass['Z'] = [0.02, 0.01, 0.006, 0.001, 0.0001]\n",
    "remnant_mass['delay'][20] = [2.73,2.77,2.79,2.81,2.82]\n",
    "remnant_mass['rapid'][20] = [2.7,1.83,1.77,1.76,1.76]"
   ]
  },
  {
   "cell_type": "markdown",
   "metadata": {},
   "source": [
    "### Extract yields for grid and selection of isos"
   ]
  },
  {
   "cell_type": "code",
   "execution_count": null,
   "metadata": {},
   "outputs": [],
   "source": [
    "masses = [12, 15, 20, 25 ]\n",
    "masses=masses[2:3] # only do 20Msun\n",
    "Zs = [0.02, 0.01, 0.006, 0.001, 0.0001]"
   ]
  },
  {
   "cell_type": "code",
   "execution_count": null,
   "metadata": {},
   "outputs": [],
   "source": [
    "%%capture\n",
    "isos = ['Al-26','Fe-60'] # pick isos to ext\n",
    "data = {}\n",
    "for expl in ['delay','rapid']:\n",
    "    data[expl] = {}\n",
    "    for mass in masses:\n",
    "        data[expl][mass] = []\n",
    "        for Z in Zs:\n",
    "            data[expl][mass].append(get_isomass_sum(Z,mass,isos,remnant_mass,expl=expl))\n",
    "print(data)    "
   ]
  },
  {
   "cell_type": "markdown",
   "metadata": {},
   "source": [
    "#### Plot yields as a function of Z"
   ]
  },
  {
   "cell_type": "code",
   "execution_count": null,
   "metadata": {},
   "outputs": [],
   "source": [
    "ifig=536;close(ifig);figure(ifig)\n",
    "rc('axes', prop_cycle=(cycler('color', CB_color_cycle[0:8]) + cycler('marker',markers[0:8])+cycler('linestyle',lll)))\n",
    "for expl in ['delay','rapid']:\n",
    "    for mass in masses:\n",
    "        for i,iso in enumerate(isos):\n",
    "            plot(log10(Zs),log10(array(data[expl][mass]).T[i]),label=expl+f' m{mass:2}, '+iso)\n",
    "legend();xlabel('log Z');ylabel('$\\log \\int X_i dm$');tight_layout()"
   ]
  }
 ],
 "metadata": {
  "kernelspec": {
   "display_name": "Python 3",
   "language": "python",
   "name": "python3"
  },
  "language_info": {
   "codemirror_mode": {
    "name": "ipython",
    "version": 3
   },
   "file_extension": ".py",
   "mimetype": "text/x-python",
   "name": "python",
   "nbconvert_exporter": "python",
   "pygments_lexer": "ipython3",
   "version": "3.6.8"
  }
 },
 "nbformat": 4,
 "nbformat_minor": 4
}
