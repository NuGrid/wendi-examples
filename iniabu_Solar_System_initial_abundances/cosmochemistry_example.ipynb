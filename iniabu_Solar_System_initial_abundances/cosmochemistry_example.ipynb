{
 "cells": [
  {
   "cell_type": "markdown",
   "metadata": {},
   "source": [
    "# Cosmochemistry example\n",
    "*December 22, 2020*\n",
    "\n",
    "This notebook shows some examples on how `iniabu` could be used in a cosmo- or geochemistry context. As before, we first load the package. The first two lines here adds the package to your python path in case you have not installed it and just cloned the repository with this notebook in it. Otherwise, feel free to comment them out."
   ]
  },
  {
   "cell_type": "code",
   "execution_count": 1,
   "metadata": {},
   "outputs": [
    {
     "name": "stdout",
     "output_type": "stream",
     "text": [
      "Populating the interactive namespace from numpy and matplotlib\n"
     ]
    }
   ],
   "source": [
    "%pylab ipympl\n",
    "import matplotlib.pyplot as plt\n",
    "import numpy as np\n",
    "\n",
    "from iniabu import ini  # load iniabu into ini"
   ]
  },
  {
   "cell_type": "markdown",
   "metadata": {},
   "source": [
    "## Measurements\n",
    "If we have a cosmochemistry example we often want to calculate $\\delta$-values or internally normalized $\\epsilon$-values from a set of measurements. Let us assumed we have measured the iron isotopic composition of 20 samples. These samples scatter randomly by 1% around their natural abundandance. In addition, they are mass-dependently fractionated and slightly enriched in <sup>57</sup>Fe."
   ]
  },
  {
   "cell_type": "code",
   "execution_count": 2,
   "metadata": {},
   "outputs": [],
   "source": [
    "# number of samples\n",
    "num_samples = 20\n",
    "\n",
    "# create variable for all iron isotopes\n",
    "fe_isos = ini.iso[\"Fe\"]\n",
    "\n",
    "# create a list with all \"signals\", our measurements. T\n",
    "measurements = []\n",
    "for abu in fe_isos.abu_solar:\n",
    "    measurements.append(abu + np.random.randn(num_samples) * abu / 100.)\n",
    "    \n",
    "# now linearly fractionate the mneasurements mass dependently by 1% per amu\n",
    "for it, msr in enumerate(measurements):\n",
    "    measurements[it] = (1 + (fe_isos.mass[it] - fe_isos.mass[0]) * 0.01) * msr\n",
    "\n",
    "# enhance Fe-57 by another 0.5%\n",
    "measurements[2] = 1.05 * measurements[2]"
   ]
  },
  {
   "cell_type": "markdown",
   "metadata": {},
   "source": [
    "## $\\delta$-values\n",
    "Often we want to take our measurements and show them as delta values. For this, let us use the solar system values as loaded by `iniabu` for normalization and then have a look at various isotope ratios. We'll use <sup>56</sup>Fe as our main normalization isotope."
   ]
  },
  {
   "cell_type": "code",
   "execution_count": 3,
   "metadata": {},
   "outputs": [
    {
     "data": {
      "application/vnd.jupyter.widget-view+json": {
       "model_id": "d4025dda51b44fe3959b2fe5f527738b",
       "version_major": 2,
       "version_minor": 0
      },
      "text/plain": [
       "Canvas(toolbar=Toolbar(toolitems=[('Home', 'Reset original view', 'home', 'home'), ('Back', 'Back to previous …"
      ]
     },
     "metadata": {},
     "output_type": "display_data"
    }
   ],
   "source": [
    "# calculate all delta-values\n",
    "deltas = []\n",
    "for it, msr in enumerate(measurements):\n",
    "    deltas.append(ini.iso_delta(fe_isos.name[it], \"Fe\", msr / measurements[1]))\n",
    "\n",
    "# create a figure for isotope patterns\n",
    "fig, ax = plt.subplots(1, 1, figsize=(10, 7))\n",
    "\n",
    "xdata = fe_isos.mass\n",
    "for it in range(num_samples):\n",
    "    ydata = [delta[it] for delta in deltas]\n",
    "    ax.plot(xdata, ydata, '-o')\n",
    "\n",
    "# make the plot a bit nicer\n",
    "xlim = (53.5, 58.5)\n",
    "ax.hlines(0, xlim[0], xlim[1], color='k', linewidth=0.5, linestyle='dashed')\n",
    "ax.set_xlim(53.5, 58.5)\n",
    "ax.set_xticks(fe_isos.mass)\n",
    "ax.set_xticklabels(fe_isos.name)\n",
    "\n",
    "ax.set_ylabel(\"$\\delta(^{i}\\mathrm{Fe}/^{56}\\mathrm{Fe})$   ‰\")\n",
    "\n",
    "fig.show()"
   ]
  },
  {
   "cell_type": "markdown",
   "metadata": {},
   "source": [
    "## Internal normalization\n",
    "\n",
    "In the above plot we get a hint at the excess in <sup>57</sup>Fe, but there is also mass-dependent fractionation. \n",
    "\n",
    "To remove the mass-dependent fractionation, we can normalize the dataset internally. Since we know we have applied a linear mass-dependent fractionation, we will use a linear law to correct for it."
   ]
  },
  {
   "cell_type": "code",
   "execution_count": 4,
   "metadata": {},
   "outputs": [
    {
     "data": {
      "application/vnd.jupyter.widget-view+json": {
       "model_id": "f56638f026f7415a83c9d36bc0e5fb40",
       "version_major": 2,
       "version_minor": 0
      },
      "text/plain": [
       "Canvas(toolbar=Toolbar(toolitems=[('Home', 'Reset original view', 'home', 'home'), ('Back', 'Back to previous …"
      ]
     },
     "metadata": {},
     "output_type": "display_data"
    }
   ],
   "source": [
    "# Internally normalize, expressing results in parts per 1000 (see delta factor)\n",
    "Deltas_int = []\n",
    "for it, msr in enumerate(measurements):\n",
    "    Deltas_int.append(\n",
    "        ini.iso_int_norm(\n",
    "        fe_isos.name[it], (\"Fe-56\", \"Fe-54\"), msr, (measurements[1], measurements[0]),\n",
    "        delta_factor=1000, law=\"lin\"\n",
    "    )\n",
    "    )\n",
    "\n",
    "\n",
    "# Plot the results again\n",
    "fig, ax = plt.subplots(1, 1, figsize=(10, 7))\n",
    "\n",
    "xdata = fe_isos.mass\n",
    "for it in range(num_samples):\n",
    "    ydata = [Delta[it] for Delta in Deltas_int]\n",
    "    ax.plot(xdata, ydata, '-o')\n",
    "\n",
    "# make the plot a bit nicer\n",
    "xlim = (53.5, 58.5)\n",
    "ax.hlines(0, xlim[0], xlim[1], color='k', linewidth=0.5, linestyle='dashed')\n",
    "ax.set_xlim(53.5, 58.5)\n",
    "ax.set_xticks(fe_isos.mass)\n",
    "ax.set_xticklabels(fe_isos.name)\n",
    "\n",
    "ax.set_ylabel(\"$\\Delta^{i}\\mathrm{Fe}_{54,56}$   (‰)\")\n",
    "\n",
    "fig.show()"
   ]
  },
  {
   "cell_type": "markdown",
   "metadata": {},
   "source": [
    "Here we can now clearly see that <sup>58</sup>Fe scatters around zero while <sup>57</sup>Fe is positive in every case. Guessing the average, it is about 50‰, which is of course what we enriched it with from the beginning."
   ]
  },
  {
   "cell_type": "markdown",
   "metadata": {},
   "source": [
    "## Summary\n",
    "\n",
    "The `iniabu` python package allows you to directly calculate $\\delta$- and $\\Delta$-values for your measurements and ratio them to the solar ratios. Of course you can also do the same thing for models, etc.\n",
    "\n",
    "More usage cases are discussed in with jupyter notebook examples. In addition you can have a look at the package documentation [here](https://iniabu.readthedocs.io) or by looking at the docstring of any function.\n",
    "\n",
    "If you encounter issues, please post them to the [`iniabu` GitHub page](https://github.com/galactic-forensics/iniabu). There you can also find a discussion forum."
   ]
  },
  {
   "cell_type": "code",
   "execution_count": null,
   "metadata": {},
   "outputs": [],
   "source": []
  }
 ],
 "metadata": {
  "kernelspec": {
   "display_name": "Python 3",
   "language": "python",
   "name": "python3"
  },
  "language_info": {
   "codemirror_mode": {
    "name": "ipython",
    "version": 3
   },
   "file_extension": ".py",
   "mimetype": "text/x-python",
   "name": "python",
   "nbconvert_exporter": "python",
   "pygments_lexer": "ipython3",
   "version": "3.8.3"
  }
 },
 "nbformat": 4,
 "nbformat_minor": 4
}
