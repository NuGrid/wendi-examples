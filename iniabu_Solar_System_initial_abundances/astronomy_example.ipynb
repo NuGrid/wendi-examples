{
 "cells": [
  {
   "cell_type": "markdown",
   "metadata": {},
   "source": [
    "# Astronomy example\n",
    "*December 22, 2020*\n",
    "\n",
    "This notebook shows some examples on how `iniabu` could be used in an astronomy / astrophysics context. As before, we first load the package. Here we use the `inimf` instance that returns all values as mass fractions.\n",
    "\n",
    "The first two lines here adds the package to your python path in case you have not installed it and just cloned the repository with this notebook in it. Otherwise, feel free to comment them out."
   ]
  },
  {
   "cell_type": "code",
   "execution_count": 1,
   "metadata": {},
   "outputs": [
    {
     "name": "stdout",
     "output_type": "stream",
     "text": [
      "Populating the interactive namespace from numpy and matplotlib\n"
     ]
    }
   ],
   "source": [
    "%pylab ipympl\n",
    "import matplotlib.pyplot as plt\n",
    "import numpy as np\n",
    "\n",
    "from iniabu import inimf  # load iniabu into inimf: mass fraction units"
   ]
  },
  {
   "cell_type": "markdown",
   "metadata": {},
   "source": [
    "Let's first make sure we have the database and units that we want available"
   ]
  },
  {
   "cell_type": "code",
   "execution_count": 2,
   "metadata": {},
   "outputs": [
    {
     "name": "stdout",
     "output_type": "stream",
     "text": [
      "Database: lodders09, Units: mass_fraction\n"
     ]
    }
   ],
   "source": [
    "print(f\"Database: {inimf.database}, Units: {inimf.unit}\")"
   ]
  },
  {
   "cell_type": "markdown",
   "metadata": {},
   "source": [
    "## Set up \"observations\"\n",
    "Let us assume we observed some stars that have randomly less iron than the sun, but the same amount of hydrogen and more barium."
   ]
  },
  {
   "cell_type": "code",
   "execution_count": 3,
   "metadata": {},
   "outputs": [],
   "source": [
    "# number of observations\n",
    "num_obs = 20\n",
    "\n",
    "# set up observations\n",
    "h_obs = np.ones(num_obs) * inimf.ele[\"H\"].abu_solar\n",
    "fe_obs = inimf.ele[\"Fe\"].abu_solar * np.random.rand(num_obs)\n",
    "ba_obs = inimf.ele[\"Ba\"].abu_solar * (1 + np.random.rand(num_obs))"
   ]
  },
  {
   "cell_type": "markdown",
   "metadata": {},
   "source": [
    "## Plot the observations\n",
    "\n",
    "Let's have a look at the observations. We'll plot [Ba/H] on the y axis and [Fe/H] on the x axis."
   ]
  },
  {
   "cell_type": "code",
   "execution_count": 4,
   "metadata": {},
   "outputs": [
    {
     "data": {
      "application/vnd.jupyter.widget-view+json": {
       "model_id": "f301b4d117774273a1260bb90ef83252",
       "version_major": 2,
       "version_minor": 0
      },
      "text/plain": [
       "Canvas(toolbar=Toolbar(toolitems=[('Home', 'Reset original view', 'home', 'home'), ('Back', 'Back to previous …"
      ]
     },
     "metadata": {},
     "output_type": "display_data"
    }
   ],
   "source": [
    "# create x and y data\n",
    "xdata = inimf.ele_bracket(\"Fe\", \"H\", fe_obs / h_obs)\n",
    "ydata = inimf.ele_bracket(\"Ba\", \"H\", ba_obs / h_obs)\n",
    "\n",
    "# Make the plot\n",
    "plt.figure(1)\n",
    "plt.plot(xdata, ydata, 'o')\n",
    "plt.xlabel('[Fe/H]')\n",
    "plt.ylabel('[Ba/H]')\n",
    "plt.show()"
   ]
  },
  {
   "cell_type": "markdown",
   "metadata": {},
   "source": [
    "## Plot solar abundances as logarithmic units\n",
    "\n",
    "Another way to import `iniabu` is by using logarithmic units. we can either switch the units or simply use `from iniabu import inilog`. Let's switch the units and see how to plot all abundances."
   ]
  },
  {
   "cell_type": "code",
   "execution_count": 5,
   "metadata": {},
   "outputs": [],
   "source": [
    "inimf.unit = \"num_log\""
   ]
  },
  {
   "cell_type": "markdown",
   "metadata": {},
   "source": [
    "To get all elements, we can use the keys of the element dictionary, as shown in the [intro notebook](introduction.ipynb)"
   ]
  },
  {
   "cell_type": "code",
   "execution_count": 6,
   "metadata": {},
   "outputs": [
    {
     "data": {
      "application/vnd.jupyter.widget-view+json": {
       "model_id": "b67afbbb397e44738c840a9c2099e5b5",
       "version_major": 2,
       "version_minor": 0
      },
      "text/plain": [
       "Canvas(toolbar=Toolbar(toolitems=[('Home', 'Reset original view', 'home', 'home'), ('Back', 'Back to previous …"
      ]
     },
     "metadata": {},
     "output_type": "display_data"
    },
    {
     "data": {
      "text/plain": [
       "Text(0, 0.5, 'Logarithmic abundance ([H] = 12)')"
      ]
     },
     "execution_count": 6,
     "metadata": {},
     "output_type": "execute_result"
    }
   ],
   "source": [
    "ele_names = inimf.ele_dict.keys()\n",
    "eles = inimf.ele[list(ele_names)]\n",
    "\n",
    "# now plot the elemet mass vs. the logarithmic abundance:\n",
    "plt.figure(2)\n",
    "plt.plot(eles.mass, eles.abu_solar, ':o', ms=4)\n",
    "plt.xlabel('Mass number')\n",
    "plt.ylabel('Logarithmic abundance ([H] = 12)')"
   ]
  },
  {
   "cell_type": "markdown",
   "metadata": {},
   "source": [
    "## Summary\n",
    "\n",
    "The `iniabu` python package allows you to directly calculate element ratios in bracket notation. Furthermore you can directly work with mass fraction or logarithmic abunda\n",
    "\n",
    "More usage cases are discussed in with jupyter notebook examples. In addition you can have a look at the package documentation [here](https://iniabu.readthedocs.io) or by looking at the docstring of any function.\n",
    "\n",
    "If you encounter issues, please post them to the [`iniabu` GitHub page](https://github.com/galactic-forensics/iniabu). There you can also find a discussion forum."
   ]
  },
  {
   "cell_type": "code",
   "execution_count": null,
   "metadata": {},
   "outputs": [],
   "source": []
  }
 ],
 "metadata": {
  "kernelspec": {
   "display_name": "Python 3",
   "language": "python",
   "name": "python3"
  },
  "language_info": {
   "codemirror_mode": {
    "name": "ipython",
    "version": 3
   },
   "file_extension": ".py",
   "mimetype": "text/x-python",
   "name": "python",
   "nbconvert_exporter": "python",
   "pygments_lexer": "ipython3",
   "version": "3.8.3"
  }
 },
 "nbformat": 4,
 "nbformat_minor": 4
}
