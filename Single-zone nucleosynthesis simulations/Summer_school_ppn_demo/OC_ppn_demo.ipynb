{
 "cells": [
  {
   "cell_type": "markdown",
   "metadata": {},
   "source": [
    "### PPN (Post-Processing Network)"
   ]
  },
  {
   "cell_type": "markdown",
   "metadata": {},
   "source": [
    "* Single zone nucleosynthesis code which solves coupled ODEs for for each isotope in your network"
   ]
  },
  {
   "cell_type": "markdown",
   "metadata": {},
   "source": [
    "* As opposed to MESA (or other SE codes) and MPPNP there is only burn (**no mix**)"
   ]
  },
  {
   "cell_type": "markdown",
   "metadata": {},
   "source": [
    "* Can be used to for a constant $T$, $\\rho$ or trajectory"
   ]
  },
  {
   "cell_type": "markdown",
   "metadata": {},
   "source": [
    "A **trajectory** follows $T$ and $\\rho$ across time (from stellar model or other)"
   ]
  },
  {
   "cell_type": "markdown",
   "metadata": {},
   "source": [
    "* Fast calculations, qualitatively similar results comapred to multi-zone. Useful for \"first-order\"\n",
    "studies and nuclear rate uncertainty calculations. (Denissenkov et al 2014) "
   ]
  },
  {
   "cell_type": "markdown",
   "metadata": {},
   "source": [
    "* Can overestimate isotopes made at high $T$"
   ]
  },
  {
   "cell_type": "markdown",
   "metadata": {},
   "source": [
    "### Setup\n",
    "open a terminal and enter `ln -s /user /home/user/notebooks/`\n"
   ]
  },
  {
   "cell_type": "markdown",
   "metadata": {},
   "source": [
    "### How to extract a trajectory from a stellar model (one way)"
   ]
  },
  {
   "cell_type": "code",
   "execution_count": 1,
   "metadata": {},
   "outputs": [
    {
     "name": "stdout",
     "output_type": "stream",
     "text": [
      "Populating the interactive namespace from numpy and matplotlib\n"
     ]
    }
   ],
   "source": [
    "#Load stellar data to select trajectory\n",
    "%pylab nbagg\n",
    "import sys\n",
    "sys.path.insert(0,'/user/NuGridSchool/NuGridPy')\n",
    "from nugridpy2 import mesa as ms\n",
    "from nugridpy2 import ascii_table as at"
   ]
  },
  {
   "cell_type": "code",
   "execution_count": null,
   "metadata": {},
   "outputs": [],
   "source": [
    "M45 = ms.history_data('/data/ppm_rpod2/Stellar_models/PopIII/45M_led_mingap_letter_hdf/LOGS/')"
   ]
  },
  {
   "cell_type": "code",
   "execution_count": null,
   "metadata": {
    "scrolled": false
   },
   "outputs": [],
   "source": [
    "ifig=1;close(ifig);figure(ifig)\n",
    "M45.kip_cont(ifig=1, mix_zones=50,burn_zones=50,xres=5000,yres=5000,ixaxis='age')"
   ]
  },
  {
   "cell_type": "code",
   "execution_count": null,
   "metadata": {},
   "outputs": [],
   "source": [
    "at.writeTraj?"
   ]
  },
  {
   "cell_type": "code",
   "execution_count": null,
   "metadata": {},
   "outputs": [],
   "source": [
    "#extract the data we need (age,T,rho)\n",
    "idx = np.where((M45.get('star_age') > 0) & (M45.get('star_age') < 4e6))\n",
    "age = M45.get('star_age')[idx][::4]\n",
    "T_c = M45.get('log_center_T')[idx][::4]\n",
    "Rho_c = M45.get('log_center_Rho')[idx][::4]"
   ]
  },
  {
   "cell_type": "code",
   "execution_count": null,
   "metadata": {},
   "outputs": [],
   "source": [
    "#take a look at the data\n",
    "ifig=2;close(ifig);figure(ifig)\n",
    "plt.plot(age,T_c, 'r')\n",
    "plt.plot(age,Rho_c,'b')\n",
    "plt.ylim(0,8.5)\n",
    "plt.ylabel(r'log T, $\\rho$')\n",
    "plt.xlabel(r'Age (yrs)')\n",
    "plt.ticklabel_format(axis='x', style='sci',scilimits=(0,4))"
   ]
  },
  {
   "cell_type": "code",
   "execution_count": null,
   "metadata": {},
   "outputs": [],
   "source": [
    "#need T and Rho not in log\n",
    "T_c = 10**T_c/1e8\n",
    "Rho_c = 10**Rho_c\n",
    "data = [age,T_c,Rho_c]\n",
    "print(len(T_c))"
   ]
  },
  {
   "cell_type": "markdown",
   "metadata": {},
   "source": [
    "Note: If you want data from a specific mass (not central) coordinate you will have to loop over profiles"
   ]
  },
  {
   "cell_type": "code",
   "execution_count": null,
   "metadata": {},
   "outputs": [],
   "source": [
    "#add this to a trajectory file\n",
    "at.writeTraj(filename='trajectory.input', data=data, \\\n",
    "             ageunit=0, tunit=0, rhounit=0, idNum=0)"
   ]
  },
  {
   "cell_type": "code",
   "execution_count": null,
   "metadata": {},
   "outputs": [],
   "source": [
    "%less trajectory.input"
   ]
  },
  {
   "cell_type": "markdown",
   "metadata": {},
   "source": [
    "### Run the simulation\n",
    "* Open the command line and enter the directory `/user/NuGridSchool`\n",
    "* make your own directory here (VERY IMPORTANT!) `mkdir yourname` and enter it\n",
    "* Make copy of the run directory PPN_PopIIIHburn `cp -r ./ppn-examples/PPN_PopIIIHburn PopIII_trajectory`\n",
    "* Also run `cp -r ppn-examples/NPDATA .` from your user directory\n",
    "* Enter your PopIII_trajectory directory\n",
    "* Add Trajectory file to directory `cp /user/NuGridSchool/wendi-examples/Single-zone\\ nucleosynthesis\\ simulations/Summer_school_ppn_demo/trajectory.input .`\n",
    "* Add initial abundance file to directory  \n",
    "* Open ppn_frame.input and set T9 = 0. This is how the code knows to read the file named trajectory.input. Change IABUINI = 11 and change filename. Also turn flux option on.    "
   ]
  },
  {
   "cell_type": "code",
   "execution_count": null,
   "metadata": {},
   "outputs": [],
   "source": [
    "from nugridpy2 import ppn"
   ]
  },
  {
   "cell_type": "code",
   "execution_count": null,
   "metadata": {},
   "outputs": [],
   "source": [
    "p = ppn.abu_vector(sldir='/home/user/notebooks/Summer_school_ppn_demo/PopIII_trajectory')"
   ]
  },
  {
   "cell_type": "code",
   "execution_count": null,
   "metadata": {},
   "outputs": [],
   "source": [
    "ifig=330;close(ifig);figure(ifig)\n",
    "p.abu_chart(330,plotaxis=[0, 25, 0, 21])"
   ]
  },
  {
   "cell_type": "code",
   "execution_count": null,
   "metadata": {},
   "outputs": [],
   "source": [
    "#Compare to mesa model"
   ]
  },
  {
   "cell_type": "code",
   "execution_count": null,
   "metadata": {},
   "outputs": [],
   "source": [
    "M45p=ms.mesa_profile('/data/ppm_rpod2/Stellar_models/PopIII/45M_led_mingap_letter_hdf/LOGS',1634)"
   ]
  },
  {
   "cell_type": "code",
   "execution_count": null,
   "metadata": {},
   "outputs": [],
   "source": [
    "ifig=4;close(ifig);figure(ifig)\n",
    "M45p.plot('mass','h1', logy=True)\n",
    "M45p.plot('mass','he4', logy=True)\n",
    "M45p.plot('mass','c12', logy=True)\n",
    "M45p.plot('mass','n14', logy=True)\n",
    "M45p.plot('mass','o15', logy=True)\n",
    "M45p.plot('mass','si28', logy=True)\n",
    "plt.ylim(-15,0.2)\n",
    "plt.xlim(0,15)"
   ]
  },
  {
   "cell_type": "code",
   "execution_count": null,
   "metadata": {},
   "outputs": [],
   "source": [
    "ifig=330;close(ifig);figure(ifig)\n",
    "%cd /user/NuGridSchool/yourdir/PopIII_trajectory/ \n",
    "p.abu_flux_chart(330)"
   ]
  },
  {
   "cell_type": "code",
   "execution_count": null,
   "metadata": {},
   "outputs": [],
   "source": [
    "#Hot CNO as indicated by 13N(p,g)14O and 18O(p,g)19F"
   ]
  },
  {
   "cell_type": "markdown",
   "metadata": {},
   "source": [
    "Let's change some rates -- maybe $^{18}\\mathrm{O}(p,\\gamma)^{19}F$ and $^{19}\\mathrm{F}(p,\\gamma)^{20}Ne$ by a factor of 1000 each (a lot! just for example)  \n",
    "\n",
    "* Open ppn_physics.input change ININET to 1 and run ppn.exe\n",
    "* Open your networksetup.txt file and find where these rates are used (set to T - not F) and multiply the rate by 10^3 (second to last column). Save and quit. \n",
    "* Open ppn_physics.input again change ININET to 3 and run ppn.exe\n"
   ]
  },
  {
   "cell_type": "code",
   "execution_count": null,
   "metadata": {},
   "outputs": [],
   "source": [
    "ifig=330;close(ifig);figure(ifig)\n",
    "p.abu_chart(330,plotaxis=[0, 25, 0, 21])"
   ]
  }
 ],
 "metadata": {
  "kernelspec": {
   "display_name": "Python 3",
   "language": "python",
   "name": "python3"
  },
  "language_info": {
   "codemirror_mode": {
    "name": "ipython",
    "version": 3
   },
   "file_extension": ".py",
   "mimetype": "text/x-python",
   "name": "python",
   "nbconvert_exporter": "python",
   "pygments_lexer": "ipython3",
   "version": "3.5.2"
  }
 },
 "nbformat": 4,
 "nbformat_minor": 2
}
