{
 "cells": [
  {
   "cell_type": "markdown",
   "metadata": {},
   "source": [
    "### Afternoon Activity 1"
   ]
  },
  {
   "cell_type": "markdown",
   "metadata": {},
   "source": [
    "Overview:   \n",
    "* We will run two single zone examples demonstrating a trajectory of He core burning and the simple case of constant T and $\\rho$ for a massive star of $15\\mathrm{M}_{\\odot}$. \n",
    "    "
   ]
  },
  {
   "cell_type": "markdown",
   "metadata": {},
   "source": [
    "In your personal directory in /user/NuGridSchool/ make two copies of the PopIII Hburn demo again and rename them Core_He_traj and Core_He_const or something along these lines"
   ]
  },
  {
   "cell_type": "markdown",
   "metadata": {},
   "source": [
    "* Then we load a model from set one extension"
   ]
  },
  {
   "cell_type": "code",
   "execution_count": null,
   "metadata": {},
   "outputs": [],
   "source": [
    "%pylab nbagg\n",
    "import sys\n",
    "sys.path.insert(0,'/user/NuGridSchool/NuGridPy')\n",
    "from nugridpy2 import mesa as ms\n",
    "from nugridpy2 import nugridse as mp\n",
    "from nugridpy2 import ascii_table as at"
   ]
  },
  {
   "cell_type": "code",
   "execution_count": null,
   "metadata": {},
   "outputs": [],
   "source": [
    "data_dir=\"/data/nugrid_local/\"    \n",
    "\n",
    "ms.set_nugrid_path(data_dir)\n",
    "mp.set_nugrid_path(data_dir)"
   ]
  },
  {
   "cell_type": "code",
   "execution_count": null,
   "metadata": {},
   "outputs": [],
   "source": [
    "m15=ms.star_log(mass=15,Z=0.02)"
   ]
  },
  {
   "cell_type": "code",
   "execution_count": null,
   "metadata": {
    "scrolled": false
   },
   "outputs": [],
   "source": [
    "ifig=1;close(ifig);figure(ifig)\n",
    "m20.kip_cont(ifig=1)"
   ]
  },
  {
   "cell_type": "markdown",
   "metadata": {},
   "source": [
    "For this activity you will determine and extract trajectory for core He burning\n",
    "To do this you will have to define beginning and end points for the trajectory and a mass coordinate to take temperature and density data from.\n",
    "\n",
    "\n",
    "core He burning can be defined based on:\n",
    "* central temperature\n",
    "* central luminosity (from triple-$\\alpha$)\n",
    "* abundance..."
   ]
  },
  {
   "cell_type": "code",
   "execution_count": null,
   "metadata": {},
   "outputs": [],
   "source": [
    "#m15.cols    #print a dictionary of history data headers we have available"
   ]
  },
  {
   "cell_type": "code",
   "execution_count": null,
   "metadata": {},
   "outputs": [],
   "source": [
    "m15_se = mp.se(mass=15,Z=0.02)  #load in se data"
   ]
  },
  {
   "cell_type": "code",
   "execution_count": null,
   "metadata": {},
   "outputs": [],
   "source": [
    "#m15_se.se.dcols #available data columns"
   ]
  },
  {
   "cell_type": "code",
   "execution_count": null,
   "metadata": {},
   "outputs": [],
   "source": [
    "#m15_se.se.hattrs #associated units\n",
    "#m15_se.get('temperature_unit')"
   ]
  },
  {
   "cell_type": "code",
   "execution_count": null,
   "metadata": {},
   "outputs": [],
   "source": [
    "ifig=2;close(ifig);figure(ifig)\n",
    "m15.plot('model_number', 'some_quantity')"
   ]
  },
  {
   "cell_type": "markdown",
   "metadata": {},
   "source": [
    "Now we make the trajectory."
   ]
  },
  {
   "cell_type": "code",
   "execution_count": null,
   "metadata": {},
   "outputs": [],
   "source": [
    "#model_start = set \n",
    "#model_stop = your\n",
    "#delta_f = numbers\n",
    "#m_coor = here  (can't be exactly 0 but can be arbitrairly close)"
   ]
  },
  {
   "cell_type": "code",
   "execution_count": null,
   "metadata": {},
   "outputs": [],
   "source": [
    "modelidx = np.where(((m15.get('model_number') > 1754) & (m15.get('model_number') < 2283)))\n",
    "age = m15.get('star_age')[modelidx[0]][::5]\n",
    "T_c = m15.get('log_center_T')[modelidx[0]][::5]\n",
    "Rho_c = m15.get('log_center_Rho')[modelidx[0]][::5]\n",
    "data = [age,(10**T_c)/1e9, 10**Rho_c]\n",
    "print(data)"
   ]
  },
  {
   "cell_type": "code",
   "execution_count": null,
   "metadata": {
    "scrolled": false
   },
   "outputs": [],
   "source": [
    "at.writeTraj(filename='trajectory.input', data=data, \\\n",
    "             ageunit=0, tunit=1, rhounit=0, idNum=0)"
   ]
  },
  {
   "cell_type": "code",
   "execution_count": null,
   "metadata": {},
   "outputs": [],
   "source": [
    "#make an initial aundance file\n",
    "pp=mp.se(mass=15,Z=0.02,type='ppd_wind')\n",
    "print(modelidx[0][0])\n",
    "#pp.abund_at_masscoordinate(model_start=modelidx[0][0],m_coor=0.0001,online=False)"
   ]
  },
  {
   "cell_type": "markdown",
   "metadata": {},
   "source": [
    "#### copy your initial abundance file and trajectory to your run directory \n",
    "And change T9 = 0 and your initial abundance file name in ppn_frame.input  \n",
    "compile and run!"
   ]
  },
  {
   "cell_type": "code",
   "execution_count": null,
   "metadata": {},
   "outputs": [],
   "source": [
    "from nugridpy2 import ppn "
   ]
  },
  {
   "cell_type": "code",
   "execution_count": null,
   "metadata": {},
   "outputs": [],
   "source": [
    "p = ppn.abu_vector(your directory)\n",
    "x = ppn.xtime(your directory)"
   ]
  },
  {
   "cell_type": "code",
   "execution_count": null,
   "metadata": {},
   "outputs": [],
   "source": [
    "p.abu_chart(100, plotaxis=[0, 25, 0, 21])"
   ]
  },
  {
   "cell_type": "code",
   "execution_count": null,
   "metadata": {},
   "outputs": [],
   "source": [
    "#x.cols"
   ]
  },
  {
   "cell_type": "code",
   "execution_count": null,
   "metadata": {},
   "outputs": [],
   "source": [
    "ifig=4;close(ifig);figure(ifig)\n",
    "species = ['PROT','HE  4', 'C  12', 'O  16']\n",
    "for specie in species:\n",
    "    x.plot('cycle',specie, logy=True)"
   ]
  },
  {
   "cell_type": "markdown",
   "metadata": {},
   "source": [
    "#### Now we will try the same conditions and the same initial abundance but run at a constant T and $\\rho$"
   ]
  },
  {
   "cell_type": "markdown",
   "metadata": {},
   "source": [
    "Now enter your Core_He_const dir and set everything the same as the last run EXCEPT now you will set T_9, rho  \n",
    "and the time step parameters (if you need help we will help you but try on your own first)"
   ]
  },
  {
   "cell_type": "code",
   "execution_count": null,
   "metadata": {},
   "outputs": [],
   "source": [
    "p2 = ppn.abu_vector(your other dir)\n",
    "x2 = ppn.xtime(your other dir)\n"
   ]
  },
  {
   "cell_type": "code",
   "execution_count": null,
   "metadata": {},
   "outputs": [],
   "source": [
    "ifig=5;close(ifig);figure(ifig)\n",
    "p2.abu_chart(99, plotaxis=[0, 25, 0, 21])"
   ]
  },
  {
   "cell_type": "code",
   "execution_count": null,
   "metadata": {},
   "outputs": [],
   "source": [
    "ifig=6;close(ifig);figure(ifig)\n",
    "species = ['PROT','HE  4', 'C  12', 'O  16']\n",
    "for specie in species:\n",
    "    x2.plot('cycle',specie, logy=True)"
   ]
  },
  {
   "cell_type": "markdown",
   "metadata": {},
   "source": [
    "make lots of plots!"
   ]
  },
  {
   "cell_type": "markdown",
   "metadata": {},
   "source": [
    "What differences do you see in your final abundances (when He4 = 1e-4 maybe)?  \n",
    "What do you think might be the cause?"
   ]
  },
  {
   "cell_type": "markdown",
   "metadata": {},
   "source": [
    "A very keen eye may have noticed something in the output changed (if not do the runs again and compare output, most people should see it regardless of the differences in some choices I left open). \n",
    "\n",
    "Once you find the change try to identify it--look at flux plots for both runs, you can also output integrated fluxes from the ppn_frame.input file. "
   ]
  },
  {
   "cell_type": "markdown",
   "metadata": {},
   "source": [
    "If you have figured out the cause mystery can you guess why this has happened?"
   ]
  }
 ],
 "metadata": {
  "kernelspec": {
   "display_name": "Python 3",
   "language": "python",
   "name": "python3"
  },
  "language_info": {
   "codemirror_mode": {
    "name": "ipython",
    "version": 3
   },
   "file_extension": ".py",
   "mimetype": "text/x-python",
   "name": "python",
   "nbconvert_exporter": "python",
   "pygments_lexer": "ipython3",
   "version": "3.5.2"
  }
 },
 "nbformat": 4,
 "nbformat_minor": 2
}
