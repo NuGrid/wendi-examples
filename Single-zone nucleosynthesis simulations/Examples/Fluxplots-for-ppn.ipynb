{
 "cells": [
  {
   "cell_type": "markdown",
   "metadata": {},
   "source": [
    "# Flux plots the NuGrid way\n",
    "\n",
    "This notebook demonstrates how to do flux plots from a ppn.abu_vector instance.\n",
    "\n",
    "#### Author\n",
    "Falk Herwig, (initial version: Feb 20, 2019)\n",
    "\n",
    "#### Where\n",
    "* Astrohub:wendi example data `/user/scratch14_wendi/SamL/popiii-iprocess-impact/80M`\n",
    "* Image: mesahub:1.2.6"
   ]
  },
  {
   "cell_type": "code",
   "execution_count": null,
   "metadata": {},
   "outputs": [],
   "source": [
    "# import sys\n",
    "# #sys.stdout = open('stdout.txt', 'w')\n",
    "# # this notebook works with nugridpy git hash 7bd2baf3833da6f22642bc8f1712ca4a0e8040a9\n",
    "# sys.path.insert(1,\"/user/NuGrid/NuGridPy\") \n",
    "\n",
    "%pylab ipympl\n",
    "# %pylab nbagg\n",
    "from nugridpy import ppn\n",
    "from nugridpy import utils\n",
    "from scipy import stats\n",
    "from scipy.stats import norm\n",
    "import time"
   ]
  },
  {
   "cell_type": "code",
   "execution_count": null,
   "metadata": {},
   "outputs": [],
   "source": [
    "cd /user/scratch14_wendi3/SamL/popiii-iprocess-impact/80M"
   ]
  },
  {
   "cell_type": "code",
   "execution_count": null,
   "metadata": {},
   "outputs": [],
   "source": [
    "# make sure we are in /user/scratch14_wendi/SamL/popiii-iprocess-impact/80M\n",
    "!pwd"
   ]
  },
  {
   "cell_type": "code",
   "execution_count": null,
   "metadata": {},
   "outputs": [],
   "source": [
    "# unfortunately, in this version we still need to be in the directory \n",
    "# where the flux file is, but Adam Paul is tasked to fix this\n",
    "!cp PPN_Run/flux_00040.DAT ."
   ]
  },
  {
   "cell_type": "code",
   "execution_count": null,
   "metadata": {},
   "outputs": [],
   "source": [
    "pa = ppn.abu_vector('PPN_Run')"
   ]
  },
  {
   "cell_type": "code",
   "execution_count": null,
   "metadata": {},
   "outputs": [],
   "source": [
    "ppn_cycle = 40 "
   ]
  },
  {
   "cell_type": "code",
   "execution_count": null,
   "metadata": {},
   "outputs": [],
   "source": [
    "pa.flux_solo?"
   ]
  },
  {
   "cell_type": "code",
   "execution_count": null,
   "metadata": {},
   "outputs": [],
   "source": [
    "pa.flux_solo(ppn_cycle,plotaxis=[5,32,3,21])"
   ]
  },
  {
   "cell_type": "code",
   "execution_count": null,
   "metadata": {},
   "outputs": [],
   "source": [
    "i=113;close(i);figure(i)\n",
    "pa.abu_chart(ppn_cycle,plotaxis=[5,32,3,21],lbound=(-12,0),\\\n",
    "             ifig=i,imlabel_fontsize=6)"
   ]
  },
  {
   "cell_type": "code",
   "execution_count": null,
   "metadata": {},
   "outputs": [],
   "source": [
    "pa.abu_flux_chart(40,plotaxis=[5,32,3,21],profile='neutron',\\\n",
    "                  prange=8)"
   ]
  },
  {
   "cell_type": "code",
   "execution_count": null,
   "metadata": {},
   "outputs": [],
   "source": []
  }
 ],
 "metadata": {
  "kernelspec": {
   "display_name": "Python 3",
   "language": "python",
   "name": "python3"
  },
  "language_info": {
   "codemirror_mode": {
    "name": "ipython",
    "version": 3
   },
   "file_extension": ".py",
   "mimetype": "text/x-python",
   "name": "python",
   "nbconvert_exporter": "python",
   "pygments_lexer": "ipython3",
   "version": "3.6.8"
  }
 },
 "nbformat": 4,
 "nbformat_minor": 4
}
